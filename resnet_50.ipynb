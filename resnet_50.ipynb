{
 "cells": [
  {
   "metadata": {
    "ExecuteTime": {
     "end_time": "2025-04-03T04:35:51.712645Z",
     "start_time": "2025-04-03T04:35:51.708738Z"
    }
   },
   "cell_type": "code",
   "source": [
    "def gamma_correction(image, gamma = 0.8):\n",
    "    invGamma = 1.0 / gamma\n",
    "    table = np.array([(i / 255.0) ** invGamma * 255 for i in range(256)]).astype(\"uint8\")\n",
    "    return cv2.LUT(image, table)"
   ],
   "id": "cecbea296dc651a4",
   "outputs": [],
   "execution_count": 1
  },
  {
   "cell_type": "code",
   "id": "initial_id",
   "metadata": {
    "collapsed": true,
    "ExecuteTime": {
     "end_time": "2025-04-03T04:35:56.483553Z",
     "start_time": "2025-04-03T04:35:54.333702Z"
    }
   },
   "source": [
    "import os\n",
    "import cv2\n",
    "import torch\n",
    "import numpy as np\n",
    "from torch.utils.data import Dataset, DataLoader\n",
    "import torchvision.transforms as transforms\n",
    "\n",
    "# Path to dataset\n",
    "base_path = '//media//sparsh//CaptainSlow//Programming Stuff//Code _n_ Stuff//All Projects//All Projects//X-Ray Classifier//xray_iamge_dataset/'\n",
    "train_folder = os.path.join(base_path, 'train')\n",
    "test_folder = os.path.join(base_path, 'test')\n",
    "\n",
    "# Define image transformations using torchvision\n",
    "transform = transforms.Compose([\n",
    "    transforms.ToPILImage(),  # Convert to PIL Image (needed for torchvision transforms)\n",
    "    transforms.Grayscale(num_output_channels=1),  # Ensure 1-channel grayscale\n",
    "    transforms.Resize((150, 150)),  # Resize\n",
    "    transforms.Lambda(lambda img: cv2.createCLAHE(clipLimit=2.0, tileGridSize=(8, 8)).apply(np.array(img))),  # CLAHE\n",
    "    transforms.Lambda(lambda img: cv2.GaussianBlur(img, (5, 5), 0)),  # Gaussian Blur\n",
    "    transforms.ToTensor(),  # Convert to tensor & normalize to [0,1]\n",
    "    transforms.Lambda(lambda img: img.expand(3, -1, -1)),  # Convert 1-channel to 3-channel\n",
    "    transforms.Resize((224, 224)),  # Resize for ResNet\n",
    "    transforms.Normalize(mean=[0.485, 0.456, 0.406], std=[0.229, 0.224, 0.225])  # ImageNet Normalization\n",
    "])\n",
    "\n",
    "# Custom Dataset Class\n",
    "class XRayDataset(Dataset):\n",
    "    def __init__(self, folder_path, transform=None):\n",
    "        self.folder_path = folder_path\n",
    "        self.transform = transform\n",
    "        self.image_paths = []\n",
    "        self.labels = []\n",
    "\n",
    "        # Load image paths and labels\n",
    "        for label in os.listdir(folder_path):\n",
    "            label_path = os.path.join(folder_path, label)\n",
    "            for image_name in os.listdir(label_path):\n",
    "                self.image_paths.append(os.path.join(label_path, image_name))\n",
    "                self.labels.append(label)\n",
    "\n",
    "        # Convert labels to integers\n",
    "        self.class_to_idx = {cls_name: idx for idx, cls_name in enumerate(sorted(set(self.labels)))}\n",
    "        self.labels = [self.class_to_idx[label] for label in self.labels]\n",
    "\n",
    "    def __len__(self):\n",
    "        return len(self.image_paths)\n",
    "\n",
    "    def __getitem__(self, idx):\n",
    "        img_path = self.image_paths[idx]\n",
    "        label = self.labels[idx]\n",
    "\n",
    "        # Load image using OpenCV\n",
    "        img = cv2.imread(img_path, cv2.IMREAD_GRAYSCALE)\n",
    "        if img is None:\n",
    "            raise RuntimeError(f\"Error loading image: {img_path}\")\n",
    "\n",
    "        # Apply transformations\n",
    "        if self.transform:\n",
    "            img = self.transform(img)\n",
    "\n",
    "        return img, torch.tensor(label, dtype=torch.long)\n",
    "\n",
    "# Create dataset instances\n",
    "train_dataset = XRayDataset(train_folder, transform=transform)\n",
    "test_dataset = XRayDataset(test_folder, transform=transform)\n",
    "\n",
    "# Create DataLoaders\n",
    "train_loader = DataLoader(train_dataset, batch_size=32, shuffle=True, num_workers=4)\n",
    "test_loader = DataLoader(test_dataset, batch_size=32, shuffle=False, num_workers=4)\n",
    "\n",
    "print(f\"Training Dataset: {len(train_dataset)} images\")\n",
    "print(f\"Test Dataset: {len(test_dataset)} images\")\n"
   ],
   "outputs": [
    {
     "name": "stdout",
     "output_type": "stream",
     "text": [
      "Training Dataset: 5216 images\n",
      "Test Dataset: 624 images\n"
     ]
    }
   ],
   "execution_count": 2
  },
  {
   "metadata": {
    "ExecuteTime": {
     "end_time": "2025-04-03T04:29:14.215096Z",
     "start_time": "2025-04-03T04:29:14.212528Z"
    }
   },
   "cell_type": "code",
   "source": "",
   "id": "9b895bc2d568ff7c",
   "outputs": [],
   "execution_count": 4
  },
  {
   "metadata": {
    "ExecuteTime": {
     "end_time": "2025-04-03T04:36:44.926169Z",
     "start_time": "2025-04-03T04:36:44.505763Z"
    }
   },
   "cell_type": "code",
   "source": [
    "import torch\n",
    "import torch.nn as nn\n",
    "from torchvision import models\n",
    "\n",
    "\n",
    "model = models.resnet50(pretrained=True)\n",
    "\n",
    "\n",
    "num_classes = 2\n",
    "model.fc = nn.Linear(model.fc.in_features, num_classes)\n",
    "\n",
    "device = torch.device(\"cuda\" if torch.cuda.is_available() else \"cpu\")\n",
    "model = model.to(device)\n"
   ],
   "id": "702ad392f4a6af0",
   "outputs": [
    {
     "name": "stderr",
     "output_type": "stream",
     "text": [
      "/home/sparsh/miniconda3/envs/torch/lib/python3.10/site-packages/torchvision/models/_utils.py:208: UserWarning: The parameter 'pretrained' is deprecated since 0.13 and may be removed in the future, please use 'weights' instead.\n",
      "  warnings.warn(\n",
      "/home/sparsh/miniconda3/envs/torch/lib/python3.10/site-packages/torchvision/models/_utils.py:223: UserWarning: Arguments other than a weight enum or `None` for 'weights' are deprecated since 0.13 and may be removed in the future. The current behavior is equivalent to passing `weights=ResNet50_Weights.IMAGENET1K_V1`. You can also use `weights=ResNet50_Weights.DEFAULT` to get the most up-to-date weights.\n",
      "  warnings.warn(msg)\n"
     ]
    }
   ],
   "execution_count": 3
  },
  {
   "metadata": {
    "ExecuteTime": {
     "end_time": "2025-04-03T05:34:51.825611Z",
     "start_time": "2025-04-03T04:36:51.124471Z"
    }
   },
   "cell_type": "code",
   "source": [
    "import torch.optim as optim\n",
    "\n",
    "criterionn = nn.CrossEntropyLoss()\n",
    "optimizer = optim.Adam(model.parameters(), lr=0.0001)\n",
    "\n",
    "epochs = 100\n",
    "\n",
    "for i in range(epochs):\n",
    "    model.train()\n",
    "\n",
    "    running_loss = 0.0\n",
    "\n",
    "    for images, labels in train_loader:\n",
    "        images, labels = images.to(device), labels.to(device)\n",
    "\n",
    "        optimizer.zero_grad()\n",
    "        outputs = model(images)\n",
    "        loss = criterionn(outputs, labels)\n",
    "        loss.backward()\n",
    "        optimizer.step()\n",
    "\n",
    "        running_loss += loss.item()\n",
    "\n",
    "    print(f\"Epoch [{i+1}/{epochs}], Loss: {running_loss:.4f}\")"
   ],
   "id": "d88a3f3413897827",
   "outputs": [
    {
     "name": "stdout",
     "output_type": "stream",
     "text": [
      "Epoch [1/100], Loss: 14.8968\n",
      "Epoch [2/100], Loss: 3.8772\n",
      "Epoch [3/100], Loss: 2.2513\n",
      "Epoch [4/100], Loss: 1.8172\n",
      "Epoch [5/100], Loss: 2.9471\n",
      "Epoch [6/100], Loss: 2.0589\n",
      "Epoch [7/100], Loss: 0.8873\n",
      "Epoch [8/100], Loss: 2.5430\n",
      "Epoch [9/100], Loss: 1.0001\n",
      "Epoch [10/100], Loss: 1.0604\n",
      "Epoch [11/100], Loss: 0.1940\n",
      "Epoch [12/100], Loss: 0.0312\n",
      "Epoch [13/100], Loss: 0.0641\n",
      "Epoch [14/100], Loss: 0.0320\n",
      "Epoch [15/100], Loss: 0.0163\n",
      "Epoch [16/100], Loss: 0.0085\n",
      "Epoch [17/100], Loss: 0.0059\n",
      "Epoch [18/100], Loss: 0.0042\n",
      "Epoch [19/100], Loss: 0.0042\n",
      "Epoch [20/100], Loss: 0.0033\n",
      "Epoch [21/100], Loss: 0.0031\n",
      "Epoch [22/100], Loss: 0.0031\n",
      "Epoch [23/100], Loss: 0.0025\n",
      "Epoch [24/100], Loss: 0.0039\n",
      "Epoch [25/100], Loss: 0.0034\n",
      "Epoch [26/100], Loss: 0.0016\n",
      "Epoch [27/100], Loss: 0.0019\n",
      "Epoch [28/100], Loss: 0.0014\n",
      "Epoch [29/100], Loss: 0.0012\n",
      "Epoch [30/100], Loss: 0.0013\n",
      "Epoch [31/100], Loss: 9.5759\n",
      "Epoch [32/100], Loss: 3.2427\n",
      "Epoch [33/100], Loss: 1.3735\n",
      "Epoch [34/100], Loss: 1.0576\n",
      "Epoch [35/100], Loss: 0.6121\n",
      "Epoch [36/100], Loss: 0.2311\n",
      "Epoch [37/100], Loss: 1.1455\n",
      "Epoch [38/100], Loss: 0.5143\n",
      "Epoch [39/100], Loss: 0.1164\n",
      "Epoch [40/100], Loss: 0.0364\n",
      "Epoch [41/100], Loss: 0.0150\n",
      "Epoch [42/100], Loss: 0.0086\n",
      "Epoch [43/100], Loss: 0.0106\n",
      "Epoch [44/100], Loss: 0.0051\n",
      "Epoch [45/100], Loss: 0.1088\n",
      "Epoch [46/100], Loss: 0.0188\n",
      "Epoch [47/100], Loss: 0.0048\n",
      "Epoch [48/100], Loss: 0.0039\n",
      "Epoch [49/100], Loss: 0.0038\n",
      "Epoch [50/100], Loss: 0.0028\n",
      "Epoch [51/100], Loss: 5.9598\n",
      "Epoch [52/100], Loss: 2.1328\n",
      "Epoch [53/100], Loss: 0.3743\n",
      "Epoch [54/100], Loss: 0.2134\n",
      "Epoch [55/100], Loss: 0.0813\n",
      "Epoch [56/100], Loss: 0.0168\n",
      "Epoch [57/100], Loss: 0.0140\n",
      "Epoch [58/100], Loss: 0.0071\n",
      "Epoch [59/100], Loss: 0.0246\n",
      "Epoch [60/100], Loss: 0.0317\n",
      "Epoch [61/100], Loss: 0.0064\n",
      "Epoch [62/100], Loss: 0.1794\n",
      "Epoch [63/100], Loss: 3.9918\n",
      "Epoch [64/100], Loss: 0.7689\n",
      "Epoch [65/100], Loss: 0.0960\n",
      "Epoch [66/100], Loss: 0.0251\n",
      "Epoch [67/100], Loss: 0.0124\n",
      "Epoch [68/100], Loss: 0.0100\n",
      "Epoch [69/100], Loss: 0.0083\n",
      "Epoch [70/100], Loss: 0.0119\n",
      "Epoch [71/100], Loss: 0.0053\n",
      "Epoch [72/100], Loss: 0.0982\n",
      "Epoch [73/100], Loss: 2.6238\n",
      "Epoch [74/100], Loss: 0.5777\n",
      "Epoch [75/100], Loss: 0.1941\n",
      "Epoch [76/100], Loss: 0.2284\n",
      "Epoch [77/100], Loss: 0.7379\n",
      "Epoch [78/100], Loss: 0.2089\n",
      "Epoch [79/100], Loss: 0.0192\n",
      "Epoch [80/100], Loss: 0.0670\n",
      "Epoch [81/100], Loss: 0.2253\n",
      "Epoch [82/100], Loss: 0.2631\n",
      "Epoch [83/100], Loss: 0.1614\n",
      "Epoch [84/100], Loss: 0.2382\n",
      "Epoch [85/100], Loss: 0.0671\n",
      "Epoch [86/100], Loss: 0.0245\n",
      "Epoch [87/100], Loss: 0.0021\n",
      "Epoch [88/100], Loss: 3.7954\n",
      "Epoch [89/100], Loss: 0.6304\n",
      "Epoch [90/100], Loss: 0.3146\n",
      "Epoch [91/100], Loss: 0.1041\n",
      "Epoch [92/100], Loss: 0.0336\n",
      "Epoch [93/100], Loss: 0.0142\n",
      "Epoch [94/100], Loss: 0.2451\n",
      "Epoch [95/100], Loss: 0.1010\n",
      "Epoch [96/100], Loss: 0.1041\n",
      "Epoch [97/100], Loss: 0.0169\n",
      "Epoch [98/100], Loss: 0.0056\n",
      "Epoch [99/100], Loss: 0.0033\n",
      "Epoch [100/100], Loss: 0.0041\n"
     ]
    }
   ],
   "execution_count": 4
  },
  {
   "metadata": {
    "ExecuteTime": {
     "end_time": "2025-04-03T05:36:26.456622Z",
     "start_time": "2025-04-03T05:36:23.615472Z"
    }
   },
   "cell_type": "code",
   "source": [
    "from sklearn.metrics import accuracy_score\n",
    "\n",
    "model.eval()  # Set model to evaluation mode\n",
    "all_preds = []\n",
    "all_labels = []\n",
    "\n",
    "with torch.no_grad():\n",
    "    for images, labels in test_loader:  # Assuming you have test_loader\n",
    "        images, labels = images.to(device), labels.to(device)\n",
    "        outputs = model(images)\n",
    "        _, preds = torch.max(outputs, 1)\n",
    "\n",
    "        all_preds.extend(preds.cpu().numpy())\n",
    "        all_labels.extend(labels.cpu().numpy())\n",
    "\n",
    "accuracy = accuracy_score(all_labels, all_preds)\n",
    "print(f\"Test Accuracy: {accuracy * 100:.2f}%\")\n"
   ],
   "id": "6c8071dbda779ded",
   "outputs": [
    {
     "name": "stdout",
     "output_type": "stream",
     "text": [
      "Test Accuracy: 82.21%\n"
     ]
    }
   ],
   "execution_count": 6
  },
  {
   "metadata": {},
   "cell_type": "code",
   "outputs": [],
   "execution_count": null,
   "source": "",
   "id": "2a7eb0e62f850bf7"
  }
 ],
 "metadata": {
  "kernelspec": {
   "display_name": "Python 3",
   "language": "python",
   "name": "python3"
  },
  "language_info": {
   "codemirror_mode": {
    "name": "ipython",
    "version": 2
   },
   "file_extension": ".py",
   "mimetype": "text/x-python",
   "name": "python",
   "nbconvert_exporter": "python",
   "pygments_lexer": "ipython2",
   "version": "2.7.6"
  }
 },
 "nbformat": 4,
 "nbformat_minor": 5
}
